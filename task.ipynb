{
 "cells": [
  {
   "cell_type": "markdown",
   "metadata": {},
   "source": [
    " # Lab 5\n",
    "\n",
    "\n",
    "\n",
    " ## Background\n",
    "\n",
    "\n",
    "\n",
    " The Deutsch-Jozsa algorithm demonstrates quantum advantage by determining whether a black-box function is constant or balanced using only **one quantum query**, compared to up to $2^{n - 1} + 1$ classical queries.\n",
    "\n",
    "\n",
    "\n",
    " **Promise**: The function $f: \\{0,1\\}^n → \\{0,1\\}$ is either:\n",
    "\n",
    "\n",
    "\n",
    " - **Constant**: Same output for all inputs (all 0s or all 1s)\n",
    "\n",
    " - **Balanced**: Exactly half the outputs are 0, half are 1"
   ]
  },
  {
   "cell_type": "markdown",
   "metadata": {},
   "source": [
    " ## Imports\n",
    "\n",
    "\n",
    "\n",
    " Run this first to import all necessary libraries:"
   ]
  },
  {
   "cell_type": "code",
   "execution_count": 1,
   "metadata": {},
   "outputs": [],
   "source": [
    "from qiskit import QuantumCircuit, QuantumRegister, ClassicalRegister, transpile\n",
    "from qiskit_aer import AerSimulator\n",
    "import numpy as np"
   ]
  },
  {
   "cell_type": "markdown",
   "metadata": {},
   "source": [
    " ## Part 1: Quantum Circuit Basics and Setup (Revision)"
   ]
  },
  {
   "cell_type": "markdown",
   "metadata": {},
   "source": [
    " ### Exercise 1.1: Basic Quantum Circuit Operations\n",
    "\n",
    "\n",
    "\n",
    " Let's start by doing a quick revision of Qiskit and basic quantum operations:"
   ]
  },
  {
   "cell_type": "code",
   "execution_count": 2,
   "metadata": {},
   "outputs": [
    {
     "name": "stdout",
     "output_type": "stream",
     "text": [
      "     ┌───┐ ░ ┌─┐   \n",
      "q_0: ┤ X ├─░─┤M├───\n",
      "     ├───┤ ░ └╥┘┌─┐\n",
      "q_1: ┤ H ├─░──╫─┤M├\n",
      "     └───┘ ░  ║ └╥┘\n",
      "c: 2/═════════╩══╩═\n",
      "              0  1 \n",
      "\n",
      "Measurement results: {'11': 499, '01': 525}\n"
     ]
    }
   ],
   "source": [
    "def create_basic_circuit():\n",
    "    \"\"\"\n",
    "    Create a 2-qubit circuit that:\n",
    "    1. Puts the first qubit into the |1⟩ state.\n",
    "    2. Puts the second qubit into a superposition state.\n",
    "    3. Adds a barrier to the circuit.\n",
    "    4. Measures both qubits.\n",
    "    \n",
    "    Returns:\n",
    "        QuantumCircuit: A 2-qubit quantum circuit.\n",
    "    \"\"\"\n",
    "    qc = QuantumCircuit(2, 2)\n",
    "    \n",
    "    # Put qubit 0 in the |1⟩ state.\n",
    "    qc.x(0)  # Apply X gate to qubit 0\n",
    "    \n",
    "    # Put qubit 1 in a superposition state.\n",
    "    qc.h(1)  # Apply Hadamard gate to qubit 1\n",
    "    \n",
    "    # Add a barrier.\n",
    "    qc.barrier()\n",
    "    \n",
    "    # Measure both qubits.\n",
    "    qc.measure([0, 1], [0, 1])\n",
    "    \n",
    "    return qc\n",
    "\n",
    "# Test your implementation\n",
    "circuit = create_basic_circuit()\n",
    "print(circuit.draw())\n",
    "\n",
    "# Run simulation and analyze results\n",
    "simulator = AerSimulator()\n",
    "# Simulate the circuit and print measurement results\n",
    "job = simulator.run(circuit, shots=1024)\n",
    "result = job.result()\n",
    "counts = result.get_counts()\n",
    "print(\"\\nMeasurement results:\", counts)\n"
   ]
  },
  {
   "cell_type": "markdown",
   "metadata": {},
   "source": [
    " ### Exercise 1.2: Understanding Quantum States\n",
    "\n",
    "\n",
    "\n",
    " Practice creating different quantum states:"
   ]
  },
  {
   "cell_type": "code",
   "execution_count": 3,
   "metadata": {},
   "outputs": [],
   "source": [
    "def create_plus_state():\n",
    "    \"\"\"\n",
    "    Creates a circuit that prepares the |+⟩ state.\n",
    "    \n",
    "    The |+⟩ state is a superposition state, equal to (|0⟩ + |1⟩)/√2.\n",
    "    \n",
    "    Returns:\n",
    "        QuantumCircuit: A 1-qubit circuit preparing the |+⟩ state.\n",
    "    \"\"\"\n",
    "    qc = QuantumCircuit(1, 1)\n",
    "    # Apply the appropriate operation to prepare the |+⟩ state.\n",
    "    # Measure the qubit.\n",
    "    qc.h(0)  # Apply Hadamard gate to qubit 0\n",
    "    qc.measure(0, 0)  # Measure the qubit\n",
    "    \n",
    "    return qc\n",
    "\n",
    "def create_minus_state():\n",
    "    \"\"\"\n",
    "    Creates a circuit that prepares the |−⟩ state.\n",
    "    \n",
    "    The |−⟩ state is a superposition state, equal to (|0⟩ - |1⟩)/√2.\n",
    "    \n",
    "    Returns:\n",
    "        QuantumCircuit: A 1-qubit circuit preparing the |−⟩ state.\n",
    "    \"\"\"\n",
    "    qc = QuantumCircuit(1, 1)\n",
    "    # Apply the required operations to prepare the |−⟩ state.\n",
    "    # Measure the qubit.\n",
    "    qc.h(0)  # Apply Hadamard gate to qubit 0\n",
    "    qc.z(0)  # Apply Z gate to qubit 0\n",
    "    qc.measure(0, 0)  # Measure the qubit\n",
    "    \n",
    "    return qc\n",
    "\n",
    "def create_bell_state():\n",
    "    \"\"\"\n",
    "    Creates a circuit that prepares the Bell state (|00⟩ + |11⟩)/√2.\n",
    "    \n",
    "    This is a maximally entangled two-qubit state.\n",
    "    \n",
    "    Returns:\n",
    "        QuantumCircuit: A 2-qubit circuit preparing a Bell state.\n",
    "    \"\"\"\n",
    "    qc = QuantumCircuit(2, 2)\n",
    "    # Apply the operations to create the entangled state.\n",
    "    # Measure both qubits.\n",
    "    qc.h(0)  # Apply Hadamard gate to qubit 0\n",
    "    qc.cx(0, 1)  # Apply CNOT gate with qubit 0 as control and qubit 1 as target\n",
    "    qc.measure([0, 1], [0, 1])  # Measure both qubits\n",
    "    \n",
    "    return qc\n"
   ]
  },
  {
   "cell_type": "code",
   "execution_count": 4,
   "metadata": {},
   "outputs": [
    {
     "name": "stdout",
     "output_type": "stream",
     "text": [
      "\n",
      "Plus State:\n",
      "     ┌───┐┌─┐\n",
      "  q: ┤ H ├┤M├\n",
      "     └───┘└╥┘\n",
      "c: 1/══════╩═\n",
      "           0 \n",
      "Results: {'0': 529, '1': 495}\n",
      "\n",
      "Minus State:\n",
      "     ┌───┐┌───┐┌─┐\n",
      "  q: ┤ H ├┤ Z ├┤M├\n",
      "     └───┘└───┘└╥┘\n",
      "c: 1/═══════════╩═\n",
      "                0 \n",
      "Results: {'0': 508, '1': 516}\n",
      "\n",
      "Bell State:\n",
      "     ┌───┐     ┌─┐   \n",
      "q_0: ┤ H ├──■──┤M├───\n",
      "     └───┘┌─┴─┐└╥┘┌─┐\n",
      "q_1: ─────┤ X ├─╫─┤M├\n",
      "          └───┘ ║ └╥┘\n",
      "c: 2/═══════════╩══╩═\n",
      "                0  1 \n",
      "Results: {'11': 514, '00': 510}\n"
     ]
    }
   ],
   "source": [
    "# Test each state\n",
    "states = {\n",
    "    'Plus State': create_plus_state(),\n",
    "    'Minus State': create_minus_state(),\n",
    "    'Bell State': create_bell_state()\n",
    "}\n",
    "\n",
    "for name, circuit in states.items():\n",
    "    print(f\"\\n{name}:\")\n",
    "    print(circuit.draw())\n",
    "    \n",
    "    job = simulator.run(circuit, shots=1024)\n",
    "    result = job.result()\n",
    "    counts = result.get_counts()\n",
    "    print(\"Results:\", counts)\n",
    "    \n"
   ]
  },
  {
   "cell_type": "markdown",
   "metadata": {},
   "source": [
    " ### Exercise 1.3: Simple Oracle Concept\n",
    "\n",
    "\n",
    "\n",
    " Understand what an oracle does:"
   ]
  },
  {
   "cell_type": "code",
   "execution_count": 8,
   "metadata": {},
   "outputs": [
    {
     "name": "stdout",
     "output_type": "stream",
     "text": [
      "Constant-0 Oracle:\n",
      "     \n",
      "q_0: \n",
      "     \n",
      "q_1: \n",
      "     \n",
      "\n",
      "Constant-1 Oracle:\n",
      "          \n",
      "q_0: ─────\n",
      "     ┌───┐\n",
      "q_1: ┤ X ├\n",
      "     └───┘\n"
     ]
    },
    {
     "name": "stderr",
     "output_type": "stream",
     "text": [
      "<>:5: SyntaxWarning: invalid escape sequence '\\o'\n",
      "<>:5: SyntaxWarning: invalid escape sequence '\\o'\n",
      "/var/folders/r0/5w_36nps06gd1l18plstmxk00000gn/T/ipykernel_56341/621186683.py:5: SyntaxWarning: invalid escape sequence '\\o'\n",
      "  The oracle is a unitary operation that maps $|x⟩|y⟩$ to $|x⟩|y \\oplus f(x)⟩$.\n"
     ]
    }
   ],
   "source": [
    "def create_constant_oracle(output):\n",
    "    \"\"\"\n",
    "    Creates an oracle for a constant function f(x) = c.\n",
    "    \n",
    "    The oracle is a unitary operation that maps $|x⟩|y⟩$ to $|x⟩|y \\oplus f(x)⟩$.\n",
    "    If the function is constant with a non-zero output, a specific gate must be applied.\n",
    "    \n",
    "    Args:\n",
    "        output (int): The constant output of the function, either 0 or 1.\n",
    "        \n",
    "    Returns:\n",
    "        QuantumCircuit: A 2-qubit circuit representing the oracle.\n",
    "    \"\"\"\n",
    "    oracle = QuantumCircuit(2, name=f'f(x)={output}')\n",
    "    \n",
    "    if output == 1:\n",
    "        # Apply the required operation to the ancilla (qubit 1).\n",
    "        oracle.x(1)  # Apply X gate to qubit 1\n",
    "    else:\n",
    "        pass\n",
    "    \n",
    "    return oracle\n",
    "\n",
    "# Test both oracles\n",
    "oracle_0 = create_constant_oracle(0)\n",
    "oracle_1 = create_constant_oracle(1)\n",
    "\n",
    "print(\"Constant-0 Oracle:\")\n",
    "print(oracle_0.draw())\n",
    "print(\"\\nConstant-1 Oracle:\")  \n",
    "print(oracle_1.draw())\n"
   ]
  },
  {
   "cell_type": "markdown",
   "metadata": {},
   "source": [
    " ## Part 2: Single-Qubit Deutsch Algorithm"
   ]
  },
  {
   "cell_type": "markdown",
   "metadata": {},
   "source": [
    " ### Exercise 2.1: Implement Four Oracle Functions"
   ]
  },
  {
   "cell_type": "code",
   "execution_count": 9,
   "metadata": {},
   "outputs": [],
   "source": [
    "def create_constant_0_oracle():\n",
    "    \"\"\"\n",
    "    Creates an oracle for the constant function f(x) = 0.\n",
    "    \n",
    "    Returns:\n",
    "        QuantumCircuit: An empty 2-qubit circuit.\n",
    "    \"\"\"\n",
    "    oracle = QuantumCircuit(2, name='Constant-0')\n",
    "    return oracle\n",
    "\n",
    "def create_constant_1_oracle():\n",
    "    \"\"\"\n",
    "    Creates an oracle for the constant function f(x) = 1.\n",
    "    \n",
    "    Returns:\n",
    "        QuantumCircuit: A 2-qubit circuit with a gate on the ancilla.\n",
    "    \"\"\"  \n",
    "    oracle = QuantumCircuit(2, name='Constant-1')\n",
    "    # Apply the operation to the ancilla qubit.\n",
    "    oracle.x(1)  # Apply X gate to qubit 1\n",
    "    return oracle\n",
    "\n",
    "def create_balanced_identity_oracle():\n",
    "    \"\"\"\n",
    "    Creates an oracle for the balanced function f(x) = x.\n",
    "    \n",
    "    Returns:\n",
    "        QuantumCircuit: A 2-qubit circuit with a controlled gate.\n",
    "    \"\"\"\n",
    "    oracle = QuantumCircuit(2, name='Balanced-Identity')\n",
    "    # Apply the appropriate controlled operation.\n",
    "    oracle.cx(0, 1)  # Apply CNOT gate with qubit 0 as control and qubit 1 as target\n",
    "    return oracle\n",
    "\n",
    "def create_balanced_not_oracle():\n",
    "    \"\"\"\n",
    "    Creates an oracle for the balanced function f(x) = 1⊕x.\n",
    "    \n",
    "    Returns:\n",
    "        QuantumCircuit: A 2-qubit circuit with two gates.\n",
    "    \"\"\"\n",
    "    oracle = QuantumCircuit(2, name='Balanced-NOT')\n",
    "    # Apply the required operations to the qubits.\n",
    "    oracle.cx(0, 1)  # Apply CNOT gate with qubit 0 as control and qubit 1 as target\n",
    "    oracle.x(1)     # Apply X gate to qubit 1\n",
    "    return oracle\n"
   ]
  },
  {
   "cell_type": "code",
   "execution_count": 10,
   "metadata": {},
   "outputs": [
    {
     "name": "stdout",
     "output_type": "stream",
     "text": [
      "Constant 0:\n",
      "     \n",
      "q_0: \n",
      "     \n",
      "q_1: \n",
      "     \n",
      "\n",
      "Constant 1:\n",
      "          \n",
      "q_0: ─────\n",
      "     ┌───┐\n",
      "q_1: ┤ X ├\n",
      "     └───┘\n",
      "\n",
      "Balanced Identity:\n",
      "          \n",
      "q_0: ──■──\n",
      "     ┌─┴─┐\n",
      "q_1: ┤ X ├\n",
      "     └───┘\n",
      "\n",
      "Balanced NOT:\n",
      "               \n",
      "q_0: ──■───────\n",
      "     ┌─┴─┐┌───┐\n",
      "q_1: ┤ X ├┤ X ├\n",
      "     └───┘└───┘\n",
      "\n"
     ]
    }
   ],
   "source": [
    "# Test your oracles by visualizing them\n",
    "oracles = {\n",
    "    'Constant 0': create_constant_0_oracle(),\n",
    "    'Constant 1': create_constant_1_oracle(), \n",
    "    'Balanced Identity': create_balanced_identity_oracle(),\n",
    "    'Balanced NOT': create_balanced_not_oracle()\n",
    "}\n",
    "\n",
    "for name, oracle in oracles.items():\n",
    "    print(f\"{name}:\")\n",
    "    print(oracle.draw())\n",
    "    print()\n"
   ]
  },
  {
   "cell_type": "markdown",
   "metadata": {},
   "source": [
    " ### Exercise 2.2: Implement Deutsch Algorithm"
   ]
  },
  {
   "cell_type": "code",
   "execution_count": 38,
   "metadata": {},
   "outputs": [
    {
     "name": "stdout",
     "output_type": "stream",
     "text": [
      "Complete Deutsch Algorithm:\n",
      "     ┌───┐      ░      ┌───┐┌─┐\n",
      "q_0: ┤ H ├──────░───■──┤ H ├┤M├\n",
      "     ├───┤┌───┐ ░ ┌─┴─┐└───┘└╥┘\n",
      "q_1: ┤ X ├┤ H ├─░─┤ X ├──────╫─\n",
      "     └───┘└───┘ ░ └───┘      ║ \n",
      "c: 1/════════════════════════╩═\n",
      "                             0 \n"
     ]
    }
   ],
   "source": [
    "def deutsch_algorithm(oracle):\n",
    "    \"\"\"\n",
    "    Implements the full Deutsch algorithm for a single input qubit (n=1).\n",
    "    \n",
    "    The algorithm uses two qubits: an input qubit and an ancilla qubit.\n",
    "    1. Initialize the ancilla to a specific state.\n",
    "    2. Apply a superposition-creating gate to both qubits.\n",
    "    3. Apply the oracle.\n",
    "    4. Apply a final superposition-creating gate to the input qubit.\n",
    "    5. Measure the input qubit.\n",
    "    \n",
    "    Args:\n",
    "        oracle (QuantumCircuit): The oracle circuit representing the function.\n",
    "        \n",
    "    Returns:\n",
    "        QuantumCircuit: The complete circuit for the Deutsch algorithm.\n",
    "    \"\"\"\n",
    "    qc = QuantumCircuit(2, 1)\n",
    "    \n",
    "    # Step 1: Initialize the ancilla.\n",
    "    qc.x(1)  # Put ancilla in the |1⟩ state\n",
    "    \n",
    "    # Step 2: Apply the superposition-creating gate to both qubits.\n",
    "    qc.h([0, 1])  # Put input & ancilla in superposition state\n",
    "    qc.barrier()\n",
    "\n",
    "    # Step 3: Apply the oracle.\n",
    "    qc.compose(oracle, inplace=True)\n",
    "\n",
    "    # Step 4: Apply a final superposition-creating gate to the input qubit only.\n",
    "    qc.h(0)  # Apply Hadamard gate to input qubit 0\n",
    "\n",
    "    # Step 5: Measure the input qubit.\n",
    "    qc.measure(0, 0)  # Measure input qubit 0 into classical bit 0\n",
    "\n",
    "    return qc\n",
    "\n",
    "# Visualize the complete algorithm with one oracle\n",
    "sample_oracle = create_balanced_identity_oracle()\n",
    "complete_circuit = deutsch_algorithm(sample_oracle)\n",
    "print(\"Complete Deutsch Algorithm:\")\n",
    "print(complete_circuit.draw())\n"
   ]
  },
  {
   "cell_type": "code",
   "execution_count": 39,
   "metadata": {},
   "outputs": [
    {
     "name": "stdout",
     "output_type": "stream",
     "text": [
      "Deutsch Algorithm Test Results:\n",
      "==================================================\n",
      "Constant 0:\n",
      "  Results: {'0': 1024}\n",
      "  Type: CONSTANT\n",
      "\n",
      "Constant 1:\n",
      "  Results: {'0': 1024}\n",
      "  Type: CONSTANT\n",
      "\n",
      "Balanced (x):\n",
      "  Results: {'1': 1024}\n",
      "  Type: BALANCED\n",
      "\n",
      "Balanced (1⊕x):\n",
      "  Results: {'1': 1024}\n",
      "  Type: BALANCED\n",
      "\n"
     ]
    }
   ],
   "source": [
    "def test_deutsch_algorithm():\n",
    "    \"\"\"Test Deutsch algorithm with all four oracles\"\"\"\n",
    "    \n",
    "    oracles = {\n",
    "        'Constant 0': create_constant_0_oracle(),\n",
    "        'Constant 1': create_constant_1_oracle(),\n",
    "        'Balanced (x)': create_balanced_identity_oracle(),\n",
    "        'Balanced (1⊕x)': create_balanced_not_oracle()\n",
    "    }\n",
    "    \n",
    "    print(\"Deutsch Algorithm Test Results:\")\n",
    "    print(\"=\" * 50)\n",
    "    \n",
    "    for name, oracle in oracles.items():\n",
    "        circuit = deutsch_algorithm(oracle)\n",
    "        \n",
    "        job = simulator.run(circuit, shots=1024)\n",
    "        result = job.result()\n",
    "        counts = result.get_counts()\n",
    "        \n",
    "        if '0' in counts and counts.get('0', 0) > 500:\n",
    "            function_type = \"CONSTANT\"\n",
    "        else:\n",
    "            function_type = \"BALANCED\"\n",
    "            \n",
    "        print(f\"{name}:\")\n",
    "        print(f\"  Results: {counts}\")\n",
    "        print(f\"  Type: {function_type}\")\n",
    "        print()\n",
    "\n",
    "\n",
    "test_deutsch_algorithm()\n"
   ]
  },
  {
   "cell_type": "markdown",
   "metadata": {},
   "source": [
    " **Expected Results**:\n",
    "\n",
    "\n",
    "\n",
    " - Constant functions → Always measure '0'\n",
    "\n",
    " - Balanced functions → Always measure '1'"
   ]
  },
  {
   "cell_type": "markdown",
   "metadata": {},
   "source": [
    " ## Part 3: Multi-Qubit Deutsch-Jozsa Algorithm"
   ]
  },
  {
   "cell_type": "markdown",
   "metadata": {},
   "source": [
    " ### Exercise 3.1: Create General Oracle Function"
   ]
  },
  {
   "cell_type": "code",
   "execution_count": 46,
   "metadata": {},
   "outputs": [
    {
     "name": "stdout",
     "output_type": "stream",
     "text": [
      "3-qubit balanced oracle (mask='101'):\n",
      "               \n",
      "q_0: ──■───────\n",
      "       │       \n",
      "q_1: ──┼───────\n",
      "       │       \n",
      "q_2: ──┼────■──\n",
      "     ┌─┴─┐┌─┴─┐\n",
      "q_3: ┤ X ├┤ X ├\n",
      "     └───┘└───┘\n"
     ]
    },
    {
     "name": "stderr",
     "output_type": "stream",
     "text": [
      "<>:11: SyntaxWarning: invalid escape sequence '\\s'\n",
      "<>:11: SyntaxWarning: invalid escape sequence '\\s'\n",
      "/var/folders/r0/5w_36nps06gd1l18plstmxk00000gn/T/ipykernel_56341/2105454869.py:11: SyntaxWarning: invalid escape sequence '\\s'\n",
      "  This implements the inner product $f(x) = \\sum_{i} x_i \\cdot mask_i \\pmod{2}$.\n"
     ]
    }
   ],
   "source": [
    "def create_dj_oracle(n, function_type, mask=None):\n",
    "    \"\"\"\n",
    "    Creates a Deutsch-Jozsa oracle for an n-qubit input.\n",
    "    \n",
    "    The oracle is an (n+1)-qubit circuit. The ancilla is the last qubit (n).\n",
    "    \n",
    "    - For constant functions, the oracle applies a gate to the ancilla\n",
    "      if the output is 1, otherwise it does nothing.\n",
    "    - For balanced functions, the oracle applies a controlled gate from each\n",
    "      input qubit `i` to the ancilla if the `i`-th bit of the `mask` is '1'.\n",
    "      This implements the inner product $f(x) = \\sum_{i} x_i \\cdot mask_i \\pmod{2}$.\n",
    "    \n",
    "    Args:\n",
    "        n (int): The number of input qubits.\n",
    "        function_type (str): Either 'constant' or 'balanced'.\n",
    "        mask (str, optional): A binary string used to define balanced functions or\n",
    "                              the constant output for constant functions.\n",
    "    \n",
    "    Returns:\n",
    "        QuantumCircuit: The oracle circuit.\n",
    "    \"\"\"\n",
    "    oracle = QuantumCircuit(n + 1, name=f'DJ-{function_type}')\n",
    "    \n",
    "    if function_type == 'constant':\n",
    "        if mask == '1': \n",
    "            # Apply the appropriate operation to the ancilla (qubit n).\n",
    "            QuantumCircuit.x(n)  # Apply X gate to the ancilla qubit\n",
    "        else:\n",
    "            pass\n",
    "    \n",
    "    elif function_type == 'balanced':\n",
    "        if mask:\n",
    "            # Iterate through the mask and apply a controlled operation for each '1' bit.\n",
    "            for i, bit in enumerate(reversed(mask)):\n",
    "                if bit == '1':\n",
    "                    oracle.cx(i, n)  # Apply CNOT gate with qubit i as control and ancilla n as target\n",
    "        else:\n",
    "                    pass\n",
    "    \n",
    "    return oracle\n",
    "\n",
    "# Test the oracle creation\n",
    "test_oracle = create_dj_oracle(3, 'balanced', '101')\n",
    "print(\"3-qubit balanced oracle (mask='101'):\")\n",
    "print(test_oracle.draw())\n"
   ]
  },
  {
   "cell_type": "markdown",
   "metadata": {},
   "source": [
    " ### Exercise 3.2: Implement Full Deutsch-Jozsa Algorithm"
   ]
  },
  {
   "cell_type": "code",
   "execution_count": 47,
   "metadata": {},
   "outputs": [
    {
     "name": "stdout",
     "output_type": "stream",
     "text": [
      "Complete 3-qubit Deutsch-Jozsa circuit:\n",
      "     ┌───┐          ┌───┐          ┌─┐   \n",
      "q_0: ┤ H ├───────■──┤ H ├──────────┤M├───\n",
      "     ├───┤┌───┐  │  └┬─┬┘          └╥┘   \n",
      "q_1: ┤ H ├┤ H ├──┼───┤M├────────────╫────\n",
      "     ├───┤└───┘  │   └╥┘      ┌───┐ ║ ┌─┐\n",
      "q_2: ┤ H ├───────┼────╫────■──┤ H ├─╫─┤M├\n",
      "     ├───┤┌───┐┌─┴─┐  ║  ┌─┴─┐└───┘ ║ └╥┘\n",
      "q_3: ┤ X ├┤ H ├┤ X ├──╫──┤ X ├──────╫──╫─\n",
      "     └───┘└───┘└───┘  ║  └───┘      ║  ║ \n",
      "c: 3/═════════════════╩═════════════╩══╩═\n",
      "                      1             0  2 \n"
     ]
    }
   ],
   "source": [
    "def deutsch_jozsa_algorithm(n, oracle):\n",
    "    \"\"\"\n",
    "    Implements the full Deutsch-Jozsa algorithm for n input qubits.\n",
    "    \n",
    "    The circuit uses n input qubits and one ancilla qubit.\n",
    "    1. Initialize the ancilla.\n",
    "    2. Apply a superposition-creating gate to all qubits.\n",
    "    3. Apply the oracle.\n",
    "    4. Apply a final superposition-creating gate to the input qubits only.\n",
    "    5. Measure the input qubits.\n",
    "    \n",
    "    Args:\n",
    "        n (int): The number of input qubits.\n",
    "        oracle (QuantumCircuit): The oracle circuit representing the function.\n",
    "        \n",
    "    Returns:\n",
    "        QuantumCircuit: The complete Deutsch-Jozsa circuit.\n",
    "    \"\"\"\n",
    "    qc = QuantumCircuit(n + 1, n)\n",
    "    \n",
    "    # Step 1: Initialize the ancilla.\n",
    "    qc.x(n)  # Put ancilla in |1⟩ state\n",
    "    qc.h(n)  # Put ancilla in superposition state\n",
    "    \n",
    "    # Step 2: Apply the superposition-creating gate to all qubits.\n",
    "    for i in range(n):\n",
    "        qc.h(i)  # Apply Hadamard gate to each input qubit\n",
    "    \n",
    "    # Step 3: Apply the oracle.\n",
    "    qc.compose(oracle, inplace=True)\n",
    "    \n",
    "    # Step 4: Apply the final superposition-creating gate to the input qubits.\n",
    "    for i in range(n):\n",
    "        qc.h(i)  # Apply Hadamard gate to each input qubit\n",
    "    \n",
    "    # Step 5: Measure the input qubits.\n",
    "    qc.measure(range(n), range(n))\n",
    "    \n",
    "    return qc\n",
    "\n",
    "# Test with the oracle from above\n",
    "test_circuit = deutsch_jozsa_algorithm(3, test_oracle)\n",
    "print(\"Complete 3-qubit Deutsch-Jozsa circuit:\")\n",
    "print(test_circuit.draw())\n"
   ]
  },
  {
   "cell_type": "markdown",
   "metadata": {},
   "source": [
    " ### Comprehensive Testing"
   ]
  },
  {
   "cell_type": "code",
   "execution_count": 43,
   "metadata": {},
   "outputs": [
    {
     "name": "stdout",
     "output_type": "stream",
     "text": [
      "Deutsch-Jozsa Test Results:\n",
      "============================================================\n",
      "\n",
      "Test: n=2, constant, mask=None\n",
      "Expected: Should measure 00\n",
      "Results: {'00': 1024}\n",
      "Most frequent: 00\n",
      "Correct: True\n",
      "\n",
      "Test: n=2, constant, mask=1\n",
      "Expected: Should measure 00\n",
      "Results: {'00': 1024}\n",
      "Most frequent: 00\n",
      "Correct: True\n",
      "\n",
      "Test: n=3, balanced, mask=101\n",
      "Expected: Should measure 101\n",
      "Results: {'000': 1024}\n",
      "Most frequent: 000\n",
      "Correct: False\n",
      "\n",
      "Test: n=3, balanced, mask=111\n",
      "Expected: Should measure 111\n",
      "Results: {'000': 1024}\n",
      "Most frequent: 000\n",
      "Correct: False\n",
      "\n",
      "Test: n=2, balanced, mask=01\n",
      "Expected: Should measure 01\n",
      "Results: {'00': 1024}\n",
      "Most frequent: 00\n",
      "Correct: False\n"
     ]
    }
   ],
   "source": [
    "def test_deutsch_jozsa():\n",
    "    \"\"\"Test with multiple cases\"\"\"\n",
    "    \n",
    "    test_cases = [\n",
    "        (2, 'constant', None, \"Should measure 00\"),\n",
    "        (2, 'constant', '1', \"Should measure 00\"), \n",
    "        (3, 'balanced', '101', \"Should measure 101\"),\n",
    "        (3, 'balanced', '111', \"Should measure 111\"),\n",
    "        (2, 'balanced', '01', \"Should measure 01\"),\n",
    "    ]\n",
    "    \n",
    "    print(\"Deutsch-Jozsa Test Results:\")\n",
    "    print(\"=\" * 60)\n",
    "    \n",
    "    for n, func_type, mask, expected in test_cases:\n",
    "        print(f\"\\nTest: n={n}, {func_type}, mask={mask}\")\n",
    "        print(f\"Expected: {expected}\")\n",
    "        \n",
    "        oracle = create_dj_oracle(n, func_type, mask)\n",
    "        circuit = deutsch_jozsa_algorithm(n, oracle)\n",
    "        \n",
    "        job = simulator.run(circuit, shots=1024)\n",
    "        result = job.result()\n",
    "        counts = result.get_counts()\n",
    "        \n",
    "        most_frequent = max(counts.keys(), key=lambda x: counts[x])\n",
    "        \n",
    "        print(f\"Results: {counts}\")\n",
    "        print(f\"Most frequent: {most_frequent}\")\n",
    "        \n",
    "        if func_type == 'constant':\n",
    "            success = most_frequent == '0' * n\n",
    "        else:\n",
    "            success = most_frequent != '0' * n\n",
    "            \n",
    "        print(f\"Correct: {success}\")\n",
    "\n",
    "# Run comprehensive test\n",
    "test_deutsch_jozsa()"
   ]
  }
 ],
 "metadata": {
  "kernelspec": {
   "display_name": ".venv (3.13.7)",
   "language": "python",
   "name": "python3"
  },
  "language_info": {
   "codemirror_mode": {
    "name": "ipython",
    "version": 3
   },
   "file_extension": ".py",
   "mimetype": "text/x-python",
   "name": "python",
   "nbconvert_exporter": "python",
   "pygments_lexer": "ipython3",
   "version": "3.13.7"
  }
 },
 "nbformat": 4,
 "nbformat_minor": 2
}
